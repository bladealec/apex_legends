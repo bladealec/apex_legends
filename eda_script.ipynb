{
 "cells": [
  {
   "cell_type": "code",
   "execution_count": null,
   "id": "723d10aa",
   "metadata": {},
   "outputs": [],
   "source": [
    "import pandas as pd\n",
    "import seaborn as sns\n",
    "import matplotlib.pyplot as plt"
   ]
  },
  {
   "cell_type": "code",
   "execution_count": null,
   "id": "a1219c15",
   "metadata": {},
   "outputs": [],
   "source": [
    "player_info = pd.read_csv('clean_data/player_info.csv')\n",
    "org_wins = pd.read_csv('clean_data/org_wins.csv')\n",
    "player_wins = pd.read_csv('clean_data/player_wins.csv')"
   ]
  },
  {
   "cell_type": "code",
   "execution_count": null,
   "id": "86d10978",
   "metadata": {},
   "outputs": [],
   "source": [
    "#player info eda"
   ]
  },
  {
   "cell_type": "code",
   "execution_count": null,
   "id": "2e8b15c2",
   "metadata": {},
   "outputs": [],
   "source": [
    "player_info.head()"
   ]
  },
  {
   "cell_type": "code",
   "execution_count": null,
   "id": "76c2ac17",
   "metadata": {},
   "outputs": [],
   "source": [
    "player_info.player_status.unique()"
   ]
  },
  {
   "cell_type": "code",
   "execution_count": null,
   "id": "7c6049d7",
   "metadata": {
    "scrolled": true
   },
   "outputs": [],
   "source": [
    "active_players = pd.DataFrame(player_info[player_info['player_status'] == 'Active'].nationality.value_counts())\n",
    "active_players = active_players.reset_index().rename(columns={'nationality':'count', 'index':'nationality'})\n",
    "\n",
    "retired_players = pd.DataFrame(player_info[player_info['player_status'] == 'Retired'].nationality.value_counts())\n",
    "retired_players = retired_players.reset_index().rename(columns={'nationality':'count', 'index':'nationality'})\n",
    "\n",
    "unkown_players = pd.DataFrame(player_info[player_info['player_status'] == 'Unkown'].nationality.value_counts())\n",
    "unkown_players = unkown_players.reset_index().rename(columns={'nationality':'count', 'index':'nationality'})\n",
    "\n",
    "banned_players = pd.DataFrame(player_info[player_info['player_status'] == 'Banned'].nationality.value_counts())\n",
    "banned_players = banned_players.reset_index().rename(columns={'nationality':'count', 'index':'nationality'})\n",
    "\n",
    "inactive_players = pd.DataFrame(player_info[player_info['player_status'] == 'Inactive'].nationality.value_counts())\n",
    "inactive_players = inactive_players.reset_index().rename(columns={'nationality':'count', 'index':'nationality'})"
   ]
  },
  {
   "cell_type": "code",
   "execution_count": null,
   "id": "cd1f7e4a",
   "metadata": {},
   "outputs": [],
   "source": [
    "active_players"
   ]
  },
  {
   "cell_type": "code",
   "execution_count": null,
   "id": "fef21e52",
   "metadata": {},
   "outputs": [],
   "source": [
    "retired_players"
   ]
  },
  {
   "cell_type": "code",
   "execution_count": null,
   "id": "223330a8",
   "metadata": {},
   "outputs": [],
   "source": []
  },
  {
   "cell_type": "code",
   "execution_count": null,
   "id": "3b28011f",
   "metadata": {
    "scrolled": true
   },
   "outputs": [],
   "source": [
    "sns.countplot(data=player_info, x='nationality')\n",
    "plt.xlabel('Nationality')\n",
    "plt.ylabel('Count')\n",
    "plt.title('Distribution of Player Nationalities')\n",
    "plt.xticks(rotation=90)\n",
    "plt.show()"
   ]
  },
  {
   "cell_type": "code",
   "execution_count": null,
   "id": "389883e6",
   "metadata": {
    "scrolled": true
   },
   "outputs": [],
   "source": [
    "#top 3 nationalities with highest player base\n",
    "nationality_counts = player_info['nationality'].value_counts()\n",
    "\n",
    "top_3 = nationality_counts.head(3)\n",
    "\n",
    "other_count = nationality_counts[3:].sum()\n",
    "top_3['Other'] = other_count\n",
    "\n",
    "plt.pie(top_3, labels=top_3.index, autopct='%1.1f%%')\n",
    "plt.title('Top 3 Highest Player Base Nations')\n",
    "plt.axis('equal')\n",
    "plt.show()"
   ]
  },
  {
   "cell_type": "code",
   "execution_count": null,
   "id": "e326f5a5",
   "metadata": {},
   "outputs": [],
   "source": [
    "sns.countplot(data=player_info[player_info['nationality'] == 'United States'], x='nationality', hue='player_status')\n",
    "plt.legend(bbox_to_anchor=(1.05, 1), loc='upper left', borderaxespad=0)"
   ]
  },
  {
   "cell_type": "code",
   "execution_count": null,
   "id": "4f1000fd",
   "metadata": {},
   "outputs": [],
   "source": []
  },
  {
   "cell_type": "code",
   "execution_count": null,
   "id": "7085c27f",
   "metadata": {},
   "outputs": [],
   "source": [
    "#org wins eda"
   ]
  },
  {
   "cell_type": "code",
   "execution_count": null,
   "id": "ca71b6c2",
   "metadata": {},
   "outputs": [],
   "source": [
    "org_wins.head()"
   ]
  },
  {
   "cell_type": "code",
   "execution_count": null,
   "id": "917bdfae",
   "metadata": {},
   "outputs": [],
   "source": [
    "top_earning_teams = org_wins.groupby('team')['earnings'].sum().nlargest(5)\n",
    "sns.barplot(x=top_earning_teams.index, y=top_earning_teams.values)\n",
    "plt.xlabel('Team')\n",
    "plt.ylabel('Total Earnings')\n",
    "plt.title('Top Earning Teams')\n",
    "plt.xticks(rotation=90)\n",
    "plt.show()"
   ]
  },
  {
   "cell_type": "code",
   "execution_count": null,
   "id": "26f7192c",
   "metadata": {},
   "outputs": [],
   "source": [
    "team_name = 'TSM'\n",
    "team_data = org_wins[org_wins['team'] == team_name]\n",
    "sns.lineplot(x='year', y='earnings', data=team_data)\n",
    "plt.xlabel('Year')\n",
    "plt.ylabel('Earnings')\n",
    "plt.title(f'Earnings Over the Years for {team_name}')\n",
    "plt.show()"
   ]
  },
  {
   "cell_type": "code",
   "execution_count": null,
   "id": "22df45d2",
   "metadata": {},
   "outputs": [],
   "source": [
    "custom_palette = sns.color_palette('Set1')\n",
    "sns.scatterplot(data=org_wins, x='earnings_rank', y='earnings', hue='year', palette=custom_palette)\n",
    "plt.xlabel('Earnings Rank')\n",
    "plt.ylabel('Earnings')\n",
    "plt.title('Earnings vs. Earnings Rank with Year Hue')\n",
    "plt.legend(title='Year')\n",
    "plt.show()"
   ]
  },
  {
   "cell_type": "code",
   "execution_count": null,
   "id": "d901b12b",
   "metadata": {},
   "outputs": [],
   "source": []
  },
  {
   "cell_type": "code",
   "execution_count": null,
   "id": "28e3a083",
   "metadata": {},
   "outputs": [],
   "source": [
    "#player_wins eda"
   ]
  },
  {
   "cell_type": "code",
   "execution_count": null,
   "id": "1ef8073d",
   "metadata": {},
   "outputs": [],
   "source": [
    "player_wins.head()"
   ]
  },
  {
   "cell_type": "code",
   "execution_count": null,
   "id": "9fc643f0",
   "metadata": {},
   "outputs": [],
   "source": [
    "top_earning_players = player_wins.groupby('player_name')['earnings'].sum().nlargest(5)\n",
    "sns.barplot(x=top_earning_players.index, y=top_earning_players.values)\n",
    "plt.xlabel('Player')\n",
    "plt.ylabel('Total Earnings')\n",
    "plt.title('Top Earning Players')\n",
    "plt.xticks(rotation=90)\n",
    "plt.show()"
   ]
  },
  {
   "cell_type": "code",
   "execution_count": null,
   "id": "7c68ce69",
   "metadata": {},
   "outputs": [],
   "source": [
    "plt.hist(player_wins['earnings'], bins=10, edgecolor='black')\n",
    "plt.xlabel('Earnings')\n",
    "plt.ylabel('Count')\n",
    "plt.title('Distribution of Player Earnings')\n",
    "plt.show()"
   ]
  },
  {
   "cell_type": "code",
   "execution_count": null,
   "id": "47ac16a3",
   "metadata": {},
   "outputs": [],
   "source": [
    "mean_earnings_by_nationality = player_wins.groupby('nationality')['earnings'].mean()\n",
    "print(mean_earnings_by_nationality.nlargest(10))\n",
    "# Select the top three nationalities with the highest mean earnings\n",
    "top_3_nationalities = mean_earnings_by_nationality.nlargest(10).index\n",
    "\n",
    "# Filter the 'player_wins' dataframe to include only the selected nationalities\n",
    "filtered_data = player_wins[player_wins['nationality'].isin(top_3_nationalities)]\n",
    "\n",
    "# Create the box plot\n",
    "sns.boxplot(data=filtered_data, x='nationality', y='earnings')\n",
    "plt.xlabel('Nationality')\n",
    "plt.ylabel('Earnings')\n",
    "plt.title('Box Plot of Earnings by Nationality (Top 3 Mean Earnings)')\n",
    "plt.xticks(rotation=90)\n",
    "plt.show()"
   ]
  },
  {
   "cell_type": "code",
   "execution_count": null,
   "id": "32d1bcae",
   "metadata": {},
   "outputs": [],
   "source": []
  }
 ],
 "metadata": {
  "kernelspec": {
   "display_name": "Python 3 (ipykernel)",
   "language": "python",
   "name": "python3"
  },
  "language_info": {
   "codemirror_mode": {
    "name": "ipython",
    "version": 3
   },
   "file_extension": ".py",
   "mimetype": "text/x-python",
   "name": "python",
   "nbconvert_exporter": "python",
   "pygments_lexer": "ipython3",
   "version": "3.10.9"
  }
 },
 "nbformat": 4,
 "nbformat_minor": 5
}
