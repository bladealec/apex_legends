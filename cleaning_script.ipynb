{
 "cells": [
  {
   "cell_type": "code",
   "execution_count": null,
   "id": "f67930c1",
   "metadata": {},
   "outputs": [],
   "source": [
    "import pandas as pd"
   ]
  },
  {
   "cell_type": "code",
   "execution_count": null,
   "id": "36c5cf0c",
   "metadata": {},
   "outputs": [],
   "source": [
    "player_info = pd.read_csv('data/player_info.csv')\n",
    "org_wins = pd.read_csv('data/winnings_by_org_allYears.csv')\n",
    "player_wins = pd.read_csv('data/winnings_by_player_allYears.csv')"
   ]
  },
  {
   "cell_type": "code",
   "execution_count": null,
   "id": "fb29b555",
   "metadata": {
    "scrolled": true
   },
   "outputs": [],
   "source": [
    "print(player_info.info())\n",
    "print(player_info.shape)\n",
    "player_info.head()"
   ]
  },
  {
   "cell_type": "code",
   "execution_count": null,
   "id": "a7fa9541",
   "metadata": {},
   "outputs": [],
   "source": [
    "#renaming column heads for links\n",
    "player_info.rename(columns={'link1': 'twitch_link', 'link2': 'twitter_link',\n",
    "                            'link3': 'facebook_link', 'link4': 'youtube_link',\n",
    "                            'link5': 'esl_link'}, inplace=True)"
   ]
  },
  {
   "cell_type": "code",
   "execution_count": null,
   "id": "decd7e07",
   "metadata": {},
   "outputs": [],
   "source": [
    "#fixing the links\n",
    "player_info['twitch_link'] = player_info['twitch_link'].str.extract(r'{\"twitch_link\":\"(https?://www\\.twitch\\.tv/[^\"]+)\"', expand=False)\n",
    "player_info['twitter_link'] = player_info['twitter_link'].str.extract(r'twitter_link:\"(https?://twitter\\.com/[^\"]+)\"', expand=False)\n",
    "player_info['facebook_link'] = player_info['facebook_link'].str.extract(r'facebook_link:\"(http://facebook\\.com/[^\"]+)\"', expand=False)\n",
    "player_info['youtube_link'] = player_info['youtube_link'].str.extract(r'youtube_link:\"(http://www\\.youtube\\.com/[^\"]+)\"', expand=False)\n",
    "player_info['esl_link'] = player_info['esl_link'].str.extract(r'esl_profile_link:\"(Https?://[^\"]+)\"')"
   ]
  },
  {
   "cell_type": "code",
   "execution_count": null,
   "id": "121fecbc",
   "metadata": {},
   "outputs": [],
   "source": [
    "player_info"
   ]
  },
  {
   "cell_type": "code",
   "execution_count": null,
   "id": "31ac8219",
   "metadata": {},
   "outputs": [],
   "source": [
    "print(org_wins.info())\n",
    "print(org_wins.shape)\n",
    "org_wins.head()"
   ]
  },
  {
   "cell_type": "code",
   "execution_count": null,
   "id": "2129f432",
   "metadata": {},
   "outputs": [],
   "source": [
    "print(player_wins.info())\n",
    "print(player_wins.shape)\n",
    "player_wins.head()"
   ]
  },
  {
   "cell_type": "code",
   "execution_count": null,
   "id": "ecd64543",
   "metadata": {},
   "outputs": [],
   "source": []
  }
 ],
 "metadata": {
  "kernelspec": {
   "display_name": "Python 3 (ipykernel)",
   "language": "python",
   "name": "python3"
  },
  "language_info": {
   "codemirror_mode": {
    "name": "ipython",
    "version": 3
   },
   "file_extension": ".py",
   "mimetype": "text/x-python",
   "name": "python",
   "nbconvert_exporter": "python",
   "pygments_lexer": "ipython3",
   "version": "3.9.13"
  }
 },
 "nbformat": 4,
 "nbformat_minor": 5
}
